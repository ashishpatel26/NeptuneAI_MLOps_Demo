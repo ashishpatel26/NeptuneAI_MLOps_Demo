{
  "cells": [
    {
      "cell_type": "markdown",
      "metadata": {
        "id": "7i12zQIqHcEj",
        "tags": [
          "header"
        ]
      },
      "source": [
        "# Monitor ML runs live\n",
        "\n",
        "<a target=\"_blank\" href=\"https://colab.research.google.com/github/neptune-ai/examples/blob/main/how-to-guides/monitor-ml-runs/notebooks/Monitor_ML_runs_live.ipynb\">\n",
        "  <img src=\"https://colab.research.google.com/assets/colab-badge.svg\" alt=\"Open in Colab\"/>\n",
        "</a>"
      ]
    },
    {
      "cell_type": "markdown",
      "metadata": {
        "id": "OSNV6RwuHcEn",
        "tags": [
          "header"
        ]
      },
      "source": [
        "## Introduction\n",
        "\n",
        "This guide will show you how to:\n",
        "\n",
        "* Monitor training and evaluation metrics and losses live\n",
        "* Monitor hardware resources during training\n",
        "\n",
        "By the end of it, you will monitor your metrics, losses, and hardware live in Neptune!"
      ]
    },
    {
      "cell_type": "markdown",
      "metadata": {
        "id": "E3rtEj-dHcEo"
      },
      "source": [
        "## Before you start\n",
        "\n",
        "This notebook example lets you try out Neptune as an anonymous user, with zero setup.\n",
        "\n",
        "If you want to see the example logged to your own workspace instead:\n",
        "\n",
        "  1. Create a Neptune account. [Register &rarr;](https://neptune.ai/register)\n",
        "  1. Create a Neptune project that you will use for tracking metadata. For instructions, see [Creating a project](https://docs.neptune.ai/setup/creating_project) in the Neptune docs."
      ]
    },
    {
      "cell_type": "markdown",
      "metadata": {
        "id": "qNvoq9lBHcEo"
      },
      "source": [
        "## Install Neptune and dependencies"
      ]
    },
    {
      "cell_type": "code",
      "execution_count": 5,
      "metadata": {
        "colab": {
          "base_uri": "https://localhost:8080/"
        },
        "id": "3_LiJxM7HcEp",
        "jupyter": {
          "outputs_hidden": false
        },
        "outputId": "485eea71-8435-49e1-9cc2-b9dd84865a68"
      },
      "outputs": [
        {
          "name": "stdout",
          "output_type": "stream",
          "text": [
            "Requirement already satisfied: neptune in c:\\users\\ibm26\\.conda\\envs\\tensorflow\\lib\\site-packages (1.6.1)\n",
            "Requirement already satisfied: tensorflow in c:\\users\\ibm26\\.conda\\envs\\tensorflow\\lib\\site-packages (2.11.0)\n",
            "Collecting tensorflow\n",
            "  Obtaining dependency information for tensorflow from https://files.pythonhosted.org/packages/ba/7c/b971f2485155917ecdcebb210e021e36a6b65457394590be01cc61515310/tensorflow-2.13.0-cp310-cp310-win_amd64.whl.metadata\n",
            "  Using cached tensorflow-2.13.0-cp310-cp310-win_amd64.whl.metadata (2.6 kB)\n",
            "Requirement already satisfied: GitPython>=2.0.8 in c:\\users\\ibm26\\.conda\\envs\\tensorflow\\lib\\site-packages (from neptune) (3.1.31)\n",
            "Requirement already satisfied: Pillow>=1.1.6 in c:\\users\\ibm26\\.conda\\envs\\tensorflow\\lib\\site-packages (from neptune) (9.4.0)\n",
            "Requirement already satisfied: PyJWT in c:\\users\\ibm26\\.conda\\envs\\tensorflow\\lib\\site-packages (from neptune) (2.7.0)\n",
            "Requirement already satisfied: boto3>=1.16.0 in c:\\users\\ibm26\\.conda\\envs\\tensorflow\\lib\\site-packages (from neptune) (1.26.76)\n",
            "Requirement already satisfied: bravado<12.0.0,>=11.0.0 in c:\\users\\ibm26\\.conda\\envs\\tensorflow\\lib\\site-packages (from neptune) (11.0.3)\n",
            "Requirement already satisfied: click>=7.0 in c:\\users\\ibm26\\.conda\\envs\\tensorflow\\lib\\site-packages (from neptune) (8.1.3)\n",
            "Requirement already satisfied: future>=0.17.1 in c:\\users\\ibm26\\.conda\\envs\\tensorflow\\lib\\site-packages (from neptune) (0.18.3)\n",
            "Requirement already satisfied: oauthlib>=2.1.0 in c:\\users\\ibm26\\.conda\\envs\\tensorflow\\lib\\site-packages (from neptune) (3.2.2)\n",
            "Requirement already satisfied: packaging in c:\\users\\ibm26\\.conda\\envs\\tensorflow\\lib\\site-packages (from neptune) (23.1)\n",
            "Requirement already satisfied: pandas in c:\\users\\ibm26\\.conda\\envs\\tensorflow\\lib\\site-packages (from neptune) (1.5.3)\n",
            "Requirement already satisfied: psutil in c:\\users\\ibm26\\.conda\\envs\\tensorflow\\lib\\site-packages (from neptune) (5.9.0)\n",
            "Requirement already satisfied: requests>=2.20.0 in c:\\users\\ibm26\\.conda\\envs\\tensorflow\\lib\\site-packages (from neptune) (2.31.0)\n",
            "Requirement already satisfied: requests-oauthlib>=1.0.0 in c:\\users\\ibm26\\.conda\\envs\\tensorflow\\lib\\site-packages (from neptune) (1.3.1)\n",
            "Requirement already satisfied: six>=1.12.0 in c:\\users\\ibm26\\.conda\\envs\\tensorflow\\lib\\site-packages (from neptune) (1.16.0)\n",
            "Requirement already satisfied: swagger-spec-validator>=2.7.4 in c:\\users\\ibm26\\.conda\\envs\\tensorflow\\lib\\site-packages (from neptune) (3.0.3)\n",
            "Requirement already satisfied: urllib3 in c:\\users\\ibm26\\.conda\\envs\\tensorflow\\lib\\site-packages (from neptune) (1.26.16)\n",
            "Requirement already satisfied: websocket-client!=1.0.0,>=0.35.0 in c:\\users\\ibm26\\.conda\\envs\\tensorflow\\lib\\site-packages (from neptune) (0.58.0)\n",
            "Collecting tensorflow-intel==2.13.0 (from tensorflow)\n",
            "  Obtaining dependency information for tensorflow-intel==2.13.0 from https://files.pythonhosted.org/packages/40/fa/98115f6fe4d92e1962f549917be2dc8e369853b7e404191996fedaaf4dd6/tensorflow_intel-2.13.0-cp310-cp310-win_amd64.whl.metadata\n",
            "  Using cached tensorflow_intel-2.13.0-cp310-cp310-win_amd64.whl.metadata (4.1 kB)\n",
            "Requirement already satisfied: absl-py>=1.0.0 in c:\\users\\ibm26\\.conda\\envs\\tensorflow\\lib\\site-packages (from tensorflow-intel==2.13.0->tensorflow) (1.3.0)\n",
            "Requirement already satisfied: astunparse>=1.6.0 in c:\\users\\ibm26\\.conda\\envs\\tensorflow\\lib\\site-packages (from tensorflow-intel==2.13.0->tensorflow) (1.6.3)\n",
            "Requirement already satisfied: flatbuffers>=23.1.21 in c:\\users\\ibm26\\.conda\\envs\\tensorflow\\lib\\site-packages (from tensorflow-intel==2.13.0->tensorflow) (23.5.26)\n",
            "Requirement already satisfied: gast<=0.4.0,>=0.2.1 in c:\\users\\ibm26\\.conda\\envs\\tensorflow\\lib\\site-packages (from tensorflow-intel==2.13.0->tensorflow) (0.4.0)\n",
            "Requirement already satisfied: google-pasta>=0.1.1 in c:\\users\\ibm26\\.conda\\envs\\tensorflow\\lib\\site-packages (from tensorflow-intel==2.13.0->tensorflow) (0.2.0)\n",
            "Requirement already satisfied: h5py>=2.9.0 in c:\\users\\ibm26\\.conda\\envs\\tensorflow\\lib\\site-packages (from tensorflow-intel==2.13.0->tensorflow) (3.7.0)\n",
            "Requirement already satisfied: libclang>=13.0.0 in c:\\users\\ibm26\\.conda\\envs\\tensorflow\\lib\\site-packages (from tensorflow-intel==2.13.0->tensorflow) (14.0.6)\n",
            "Requirement already satisfied: numpy<=1.24.3,>=1.22 in c:\\users\\ibm26\\.conda\\envs\\tensorflow\\lib\\site-packages (from tensorflow-intel==2.13.0->tensorflow) (1.24.3)\n",
            "Requirement already satisfied: opt-einsum>=2.3.2 in c:\\users\\ibm26\\.conda\\envs\\tensorflow\\lib\\site-packages (from tensorflow-intel==2.13.0->tensorflow) (3.3.0)\n",
            "Requirement already satisfied: protobuf!=4.21.0,!=4.21.1,!=4.21.2,!=4.21.3,!=4.21.4,!=4.21.5,<5.0.0dev,>=3.20.3 in c:\\users\\ibm26\\.conda\\envs\\tensorflow\\lib\\site-packages (from tensorflow-intel==2.13.0->tensorflow) (4.24.0)\n",
            "Requirement already satisfied: setuptools in c:\\users\\ibm26\\.conda\\envs\\tensorflow\\lib\\site-packages (from tensorflow-intel==2.13.0->tensorflow) (68.0.0)\n",
            "Requirement already satisfied: termcolor>=1.1.0 in c:\\users\\ibm26\\.conda\\envs\\tensorflow\\lib\\site-packages (from tensorflow-intel==2.13.0->tensorflow) (2.1.1)\n",
            "Requirement already satisfied: typing-extensions<4.6.0,>=3.6.6 in c:\\users\\ibm26\\.conda\\envs\\tensorflow\\lib\\site-packages (from tensorflow-intel==2.13.0->tensorflow) (4.5.0)\n",
            "Requirement already satisfied: wrapt>=1.11.0 in c:\\users\\ibm26\\.conda\\envs\\tensorflow\\lib\\site-packages (from tensorflow-intel==2.13.0->tensorflow) (1.15.0)\n",
            "Requirement already satisfied: grpcio<2.0,>=1.24.3 in c:\\users\\ibm26\\.conda\\envs\\tensorflow\\lib\\site-packages (from tensorflow-intel==2.13.0->tensorflow) (1.50.0)\n",
            "Collecting tensorboard<2.14,>=2.13 (from tensorflow-intel==2.13.0->tensorflow)\n",
            "  Using cached tensorboard-2.13.0-py3-none-any.whl (5.6 MB)\n",
            "Requirement already satisfied: tensorflow-estimator<2.14,>=2.13.0 in c:\\users\\ibm26\\.conda\\envs\\tensorflow\\lib\\site-packages (from tensorflow-intel==2.13.0->tensorflow) (2.13.0)\n",
            "Requirement already satisfied: keras<2.14,>=2.13.1 in c:\\users\\ibm26\\.conda\\envs\\tensorflow\\lib\\site-packages (from tensorflow-intel==2.13.0->tensorflow) (2.13.1)\n",
            "Requirement already satisfied: tensorflow-io-gcs-filesystem>=0.23.1 in c:\\users\\ibm26\\.conda\\envs\\tensorflow\\lib\\site-packages (from tensorflow-intel==2.13.0->tensorflow) (0.28.0)\n",
            "Requirement already satisfied: botocore<1.30.0,>=1.29.76 in c:\\users\\ibm26\\.conda\\envs\\tensorflow\\lib\\site-packages (from boto3>=1.16.0->neptune) (1.29.76)\n",
            "Requirement already satisfied: jmespath<2.0.0,>=0.7.1 in c:\\users\\ibm26\\.conda\\envs\\tensorflow\\lib\\site-packages (from boto3>=1.16.0->neptune) (1.0.1)\n",
            "Requirement already satisfied: s3transfer<0.7.0,>=0.6.0 in c:\\users\\ibm26\\.conda\\envs\\tensorflow\\lib\\site-packages (from boto3>=1.16.0->neptune) (0.6.1)\n",
            "Requirement already satisfied: bravado-core>=5.16.1 in c:\\users\\ibm26\\.conda\\envs\\tensorflow\\lib\\site-packages (from bravado<12.0.0,>=11.0.0->neptune) (6.1.0)\n",
            "Requirement already satisfied: msgpack in c:\\users\\ibm26\\.conda\\envs\\tensorflow\\lib\\site-packages (from bravado<12.0.0,>=11.0.0->neptune) (1.0.5)\n",
            "Requirement already satisfied: python-dateutil in c:\\users\\ibm26\\.conda\\envs\\tensorflow\\lib\\site-packages (from bravado<12.0.0,>=11.0.0->neptune) (2.8.2)\n",
            "Requirement already satisfied: pyyaml in c:\\users\\ibm26\\.conda\\envs\\tensorflow\\lib\\site-packages (from bravado<12.0.0,>=11.0.0->neptune) (6.0)\n",
            "Requirement already satisfied: simplejson in c:\\users\\ibm26\\.conda\\envs\\tensorflow\\lib\\site-packages (from bravado<12.0.0,>=11.0.0->neptune) (3.19.1)\n",
            "Requirement already satisfied: monotonic in c:\\users\\ibm26\\.conda\\envs\\tensorflow\\lib\\site-packages (from bravado<12.0.0,>=11.0.0->neptune) (1.6)\n",
            "Requirement already satisfied: colorama in c:\\users\\ibm26\\.conda\\envs\\tensorflow\\lib\\site-packages (from click>=7.0->neptune) (0.4.6)\n",
            "Requirement already satisfied: gitdb<5,>=4.0.1 in c:\\users\\ibm26\\.conda\\envs\\tensorflow\\lib\\site-packages (from GitPython>=2.0.8->neptune) (4.0.10)\n",
            "Requirement already satisfied: charset-normalizer<4,>=2 in c:\\users\\ibm26\\.conda\\envs\\tensorflow\\lib\\site-packages (from requests>=2.20.0->neptune) (3.2.0)\n",
            "Requirement already satisfied: idna<4,>=2.5 in c:\\users\\ibm26\\.conda\\envs\\tensorflow\\lib\\site-packages (from requests>=2.20.0->neptune) (3.4)\n",
            "Requirement already satisfied: certifi>=2017.4.17 in c:\\users\\ibm26\\.conda\\envs\\tensorflow\\lib\\site-packages (from requests>=2.20.0->neptune) (2023.7.22)\n",
            "Requirement already satisfied: jsonschema in c:\\users\\ibm26\\.conda\\envs\\tensorflow\\lib\\site-packages (from swagger-spec-validator>=2.7.4->neptune) (4.17.3)\n",
            "Requirement already satisfied: pytz>=2020.1 in c:\\users\\ibm26\\.conda\\envs\\tensorflow\\lib\\site-packages (from pandas->neptune) (2023.3)\n",
            "Requirement already satisfied: wheel<1.0,>=0.23.0 in c:\\users\\ibm26\\.conda\\envs\\tensorflow\\lib\\site-packages (from astunparse>=1.6.0->tensorflow-intel==2.13.0->tensorflow) (0.37.1)\n",
            "Requirement already satisfied: jsonref in c:\\users\\ibm26\\.conda\\envs\\tensorflow\\lib\\site-packages (from bravado-core>=5.16.1->bravado<12.0.0,>=11.0.0->neptune) (1.1.0)\n",
            "Requirement already satisfied: smmap<6,>=3.0.1 in c:\\users\\ibm26\\.conda\\envs\\tensorflow\\lib\\site-packages (from gitdb<5,>=4.0.1->GitPython>=2.0.8->neptune) (5.0.0)\n",
            "Requirement already satisfied: google-auth<3,>=1.6.3 in c:\\users\\ibm26\\.conda\\envs\\tensorflow\\lib\\site-packages (from tensorboard<2.14,>=2.13->tensorflow-intel==2.13.0->tensorflow) (2.14.1)\n",
            "Collecting google-auth-oauthlib<1.1,>=0.5 (from tensorboard<2.14,>=2.13->tensorflow-intel==2.13.0->tensorflow)\n",
            "  Using cached google_auth_oauthlib-1.0.0-py2.py3-none-any.whl (18 kB)\n",
            "Requirement already satisfied: markdown>=2.6.8 in c:\\users\\ibm26\\appdata\\roaming\\python\\python310\\site-packages (from tensorboard<2.14,>=2.13->tensorflow-intel==2.13.0->tensorflow) (3.4.3)\n",
            "Requirement already satisfied: tensorboard-data-server<0.8.0,>=0.7.0 in c:\\users\\ibm26\\.conda\\envs\\tensorflow\\lib\\site-packages (from tensorboard<2.14,>=2.13->tensorflow-intel==2.13.0->tensorflow) (0.7.1)\n",
            "Requirement already satisfied: werkzeug>=1.0.1 in c:\\users\\ibm26\\.conda\\envs\\tensorflow\\lib\\site-packages (from tensorboard<2.14,>=2.13->tensorflow-intel==2.13.0->tensorflow) (2.2.2)\n",
            "Requirement already satisfied: attrs>=17.4.0 in c:\\users\\ibm26\\.conda\\envs\\tensorflow\\lib\\site-packages (from jsonschema->swagger-spec-validator>=2.7.4->neptune) (23.1.0)\n",
            "Requirement already satisfied: pyrsistent!=0.17.0,!=0.17.1,!=0.17.2,>=0.14.0 in c:\\users\\ibm26\\.conda\\envs\\tensorflow\\lib\\site-packages (from jsonschema->swagger-spec-validator>=2.7.4->neptune) (0.18.0)\n",
            "Requirement already satisfied: cachetools<6.0,>=2.0.0 in c:\\users\\ibm26\\.conda\\envs\\tensorflow\\lib\\site-packages (from google-auth<3,>=1.6.3->tensorboard<2.14,>=2.13->tensorflow-intel==2.13.0->tensorflow) (5.2.0)\n",
            "Requirement already satisfied: pyasn1-modules>=0.2.1 in c:\\users\\ibm26\\.conda\\envs\\tensorflow\\lib\\site-packages (from google-auth<3,>=1.6.3->tensorboard<2.14,>=2.13->tensorflow-intel==2.13.0->tensorflow) (0.2.8)\n",
            "Requirement already satisfied: rsa<5,>=3.1.4 in c:\\users\\ibm26\\.conda\\envs\\tensorflow\\lib\\site-packages (from google-auth<3,>=1.6.3->tensorboard<2.14,>=2.13->tensorflow-intel==2.13.0->tensorflow) (4.9)\n",
            "Collecting google-auth<3,>=1.6.3 (from tensorboard<2.14,>=2.13->tensorflow-intel==2.13.0->tensorflow)\n",
            "  Obtaining dependency information for google-auth<3,>=1.6.3 from https://files.pythonhosted.org/packages/9c/8d/bff87fc722553a5691d8514da5523c23547f3894189ba03b57592e37bdc2/google_auth-2.22.0-py2.py3-none-any.whl.metadata\n",
            "  Using cached google_auth-2.22.0-py2.py3-none-any.whl.metadata (4.2 kB)\n",
            "Requirement already satisfied: fqdn in c:\\users\\ibm26\\.conda\\envs\\tensorflow\\lib\\site-packages (from jsonschema->swagger-spec-validator>=2.7.4->neptune) (1.5.1)\n",
            "Requirement already satisfied: isoduration in c:\\users\\ibm26\\.conda\\envs\\tensorflow\\lib\\site-packages (from jsonschema->swagger-spec-validator>=2.7.4->neptune) (20.11.0)\n",
            "Requirement already satisfied: jsonpointer>1.13 in c:\\users\\ibm26\\.conda\\envs\\tensorflow\\lib\\site-packages (from jsonschema->swagger-spec-validator>=2.7.4->neptune) (2.4)\n",
            "Requirement already satisfied: rfc3339-validator in c:\\users\\ibm26\\.conda\\envs\\tensorflow\\lib\\site-packages (from jsonschema->swagger-spec-validator>=2.7.4->neptune) (0.1.4)\n",
            "Requirement already satisfied: rfc3987 in c:\\users\\ibm26\\.conda\\envs\\tensorflow\\lib\\site-packages (from jsonschema->swagger-spec-validator>=2.7.4->neptune) (1.3.8)\n",
            "Requirement already satisfied: uri-template in c:\\users\\ibm26\\.conda\\envs\\tensorflow\\lib\\site-packages (from jsonschema->swagger-spec-validator>=2.7.4->neptune) (1.3.0)\n",
            "Requirement already satisfied: webcolors>=1.11 in c:\\users\\ibm26\\.conda\\envs\\tensorflow\\lib\\site-packages (from jsonschema->swagger-spec-validator>=2.7.4->neptune) (1.13)\n",
            "Requirement already satisfied: MarkupSafe>=2.1.1 in c:\\users\\ibm26\\.conda\\envs\\tensorflow\\lib\\site-packages (from werkzeug>=1.0.1->tensorboard<2.14,>=2.13->tensorflow-intel==2.13.0->tensorflow) (2.1.3)\n",
            "Requirement already satisfied: pyasn1<0.5.0,>=0.4.6 in c:\\users\\ibm26\\.conda\\envs\\tensorflow\\lib\\site-packages (from pyasn1-modules>=0.2.1->google-auth<3,>=1.6.3->tensorboard<2.14,>=2.13->tensorflow-intel==2.13.0->tensorflow) (0.4.8)\n",
            "Requirement already satisfied: arrow>=0.15.0 in c:\\users\\ibm26\\.conda\\envs\\tensorflow\\lib\\site-packages (from isoduration->jsonschema->swagger-spec-validator>=2.7.4->neptune) (1.2.3)\n",
            "Using cached tensorflow-2.13.0-cp310-cp310-win_amd64.whl (1.9 kB)\n",
            "Using cached tensorflow_intel-2.13.0-cp310-cp310-win_amd64.whl (276.5 MB)\n",
            "Using cached google_auth-2.22.0-py2.py3-none-any.whl (181 kB)\n",
            "Installing collected packages: google-auth, google-auth-oauthlib, tensorboard, tensorflow-intel, tensorflow\n",
            "  Attempting uninstall: google-auth\n",
            "    Found existing installation: google-auth 2.14.1\n",
            "    Uninstalling google-auth-2.14.1:\n",
            "      Successfully uninstalled google-auth-2.14.1\n",
            "  Attempting uninstall: google-auth-oauthlib\n",
            "    Found existing installation: google-auth-oauthlib 0.4.6\n",
            "    Uninstalling google-auth-oauthlib-0.4.6:\n",
            "      Successfully uninstalled google-auth-oauthlib-0.4.6\n",
            "  Attempting uninstall: tensorboard\n",
            "    Found existing installation: tensorboard 2.10.1\n",
            "    Uninstalling tensorboard-2.10.1:\n",
            "      Successfully uninstalled tensorboard-2.10.1\n",
            "  Attempting uninstall: tensorflow\n",
            "    Found existing installation: tensorflow 2.11.0\n",
            "    Uninstalling tensorflow-2.11.0:\n",
            "      Successfully uninstalled tensorflow-2.11.0\n",
            "Successfully installed google-auth-2.22.0 google-auth-oauthlib-1.0.0 tensorboard-2.13.0 tensorflow-2.13.0 tensorflow-intel-2.13.0\n"
          ]
        },
        {
          "name": "stderr",
          "output_type": "stream",
          "text": [
            "ERROR: pip's dependency resolver does not currently take into account all the packages that are installed. This behaviour is the source of the following dependency conflicts.\n",
            "google-api-python-client 2.86.0 requires uritemplate<5,>=3.0.1, which is not installed.\n",
            "tensorflow-gpu 2.10.1 requires keras<2.11,>=2.10.0, but you have keras 2.13.1 which is incompatible.\n",
            "tensorflow-gpu 2.10.1 requires protobuf<3.20,>=3.9.2, but you have protobuf 4.24.0 which is incompatible.\n",
            "tensorflow-gpu 2.10.1 requires tensorboard<2.11,>=2.10, but you have tensorboard 2.13.0 which is incompatible.\n",
            "tensorflow-gpu 2.10.1 requires tensorflow-estimator<2.11,>=2.10.0, but you have tensorflow-estimator 2.13.0 which is incompatible.\n"
          ]
        }
      ],
      "source": [
        "! pip install -U neptune tensorflow"
      ]
    },
    {
      "cell_type": "markdown",
      "metadata": {
        "id": "X61GbUPxHcEq"
      },
      "source": [
        "## Create a basic training script"
      ]
    },
    {
      "cell_type": "markdown",
      "metadata": {
        "id": "ulaBwFKrHcEq"
      },
      "source": [
        "As an example I'll use a script that trains a Keras model on the MNIST dataset."
      ]
    },
    {
      "cell_type": "code",
      "execution_count": 8,
      "metadata": {
        "id": "tEgkb5j0HcEr",
        "tags": [
          "code"
        ]
      },
      "outputs": [],
      "source": [
        "from tensorflow import keras\n",
        "\n",
        "# parameters\n",
        "params = {\n",
        "    \"epoch_nr\": 100,\n",
        "    \"batch_size\": 256,\n",
        "    \"lr\": 0.005,\n",
        "    \"momentum\": 0.4,\n",
        "    \"use_nesterov\": True,\n",
        "    \"unit_nr\": 256,\n",
        "    \"dropout\": 0.05,\n",
        "}\n",
        "\n",
        "mnist = keras.datasets.mnist\n",
        "(x_train, y_train), (x_test, y_test) = mnist.load_data()\n",
        "x_train, x_test = x_train / 255.0, x_test / 255.0\n",
        "\n",
        "model = keras.models.Sequential(\n",
        "    [\n",
        "        keras.layers.Flatten(),\n",
        "        keras.layers.Dense(params[\"unit_nr\"], activation=keras.activations.relu),\n",
        "        keras.layers.Dropout(params[\"dropout\"]),\n",
        "        keras.layers.Dense(10, activation=keras.activations.softmax),\n",
        "    ]\n",
        ")\n",
        "\n",
        "optimizer = keras.optimizers.SGD(\n",
        "    learning_rate=params[\"lr\"],\n",
        "    momentum=params[\"momentum\"],\n",
        "    nesterov=params[\"use_nesterov\"],\n",
        ")\n",
        "\n",
        "model.compile(optimizer=optimizer, loss=\"sparse_categorical_crossentropy\", metrics=[\"accuracy\"])"
      ]
    },
    {
      "cell_type": "markdown",
      "metadata": {
        "id": "Zo9ugV-oHcEr",
        "tags": [
          "header"
        ]
      },
      "source": [
        "## Initialize Neptune and create new run"
      ]
    },
    {
      "cell_type": "markdown",
      "metadata": {
        "id": "QCWNe68QHcEs",
        "tags": [
          "comment"
        ]
      },
      "source": [
        "To create a new run for tracking the metadata, you tell Neptune who you are (`api_token`) and where to send the data (`project`).\n",
        "\n",
        "You can use the default code cell below to create an anonymous run in a public project. **Note**: Public projects are cleaned regularly, so anonymous runs are only stored temporarily.\n",
        "\n",
        "### Log to your own project instead\n",
        "\n",
        "Replace the code below with the following:\n",
        "\n",
        "```python\n",
        "import neptune\n",
        "from getpass import getpass\n",
        "\n",
        "run = neptune.init_run(\n",
        "    project=\"workspace-name/project-name\",  # replace with your own (see instructions below)\n",
        "    api_token=getpass(\"Enter your Neptune API token: \"),\n",
        "    capture_hardware_metrics=True,\n",
        "    capture_stderr=True,\n",
        "    capture_stdout=True,\n",
        ")\n",
        "```\n",
        "\n",
        "To find your API token and full project name:\n",
        "\n",
        "1. [Log in to Neptune](https://app.neptune.ai/).\n",
        "1. In the bottom-left corner, expand your user menu and select **Get your API token**.\n",
        "1. The workspace name is displayed in the top-left corner of the app.\n",
        "\n",
        "    To copy the project path, in the top-right corner, open the settings menu and select **Properties**.\n",
        "\n",
        "For more help, see [Setting Neptune credentials](https://docs.neptune.ai/setup/setting_credentials) in the Neptune docs."
      ]
    },
    {
      "cell_type": "code",
      "execution_count": 6,
      "metadata": {
        "id": "N4b1Ubv2HcEs",
        "tags": [
          "code"
        ]
      },
      "outputs": [
        {
          "name": "stdout",
          "output_type": "stream",
          "text": [
            "https://app.neptune.ai/ibm26ashish/mnistdemo/e/MNIS-2\n"
          ]
        }
      ],
      "source": [
        "import neptune\n",
        "\n",
        "run = neptune.init_run(\n",
        "    project=\"ibm26ashish/mnistdemo\",\n",
        "    api_token=\"eyJhcGlfYWRkcmVzcyI6Imh0dHBzOi8vYXBwLm5lcHR1bmUuYWkiLCJhcGlfdXJsIjoiaHR0cHM6Ly9hcHAubmVwdHVuZS5haSIsImFwaV9rZXkiOiJjOTViNGNjZi00ZDJhLTQxNjYtYmE4ZS0xYWRiNzc0ZWQ3MWEifQ==\",\n",
        "    capture_hardware_metrics=True,\n",
        "    capture_stderr=True,\n",
        "    capture_stdout=True,\n",
        ")  # Hardware metrics, stderr, and stdout are not captured by default in interactive kernels"
      ]
    },
    {
      "cell_type": "markdown",
      "metadata": {
        "id": "JuwgLphtHcEs",
        "tags": [
          "comment"
        ]
      },
      "source": [
        "**To open the run in the Neptune web app, click the link that appeared in the cell output.**\n",
        "\n",
        "We'll use the `run` object we just created to log metadata. You'll see the metadata appear in the app."
      ]
    },
    {
      "cell_type": "markdown",
      "metadata": {
        "id": "Rsq7hKF1HcEs",
        "tags": [
          "header"
        ]
      },
      "source": [
        "## Add logging for metrics and losses"
      ]
    },
    {
      "cell_type": "markdown",
      "metadata": {
        "id": "XWMilyvSHcEt",
        "tags": [
          "comment"
        ]
      },
      "source": [
        "Since we are using Keras we'll create a Callback that logs metrics and losses after every epoch."
      ]
    },
    {
      "cell_type": "code",
      "execution_count": 7,
      "metadata": {
        "id": "K56-8X7uHcEt",
        "tags": [
          "code"
        ]
      },
      "outputs": [],
      "source": [
        "class NeptuneLogger(keras.callbacks.Callback):\n",
        "    def on_batch_end(self, batch, logs={}):\n",
        "        for log_name, log_value in logs.items():\n",
        "            run[f\"batch/{log_name}\"].append(log_value)\n",
        "\n",
        "    def on_epoch_end(self, epoch, logs={}):\n",
        "        for log_name, log_value in logs.items():\n",
        "            run[f\"epoch/{log_name}\"].append(log_value)"
      ]
    },
    {
      "cell_type": "markdown",
      "metadata": {
        "id": "rhq93CvDHcEt",
        "tags": [
          "comment"
        ]
      },
      "source": [
        "We need to pass it to the `callbacks` argument."
      ]
    },
    {
      "cell_type": "code",
      "execution_count": 9,
      "metadata": {
        "id": "L49C9PdsHcEt",
        "tags": [
          "code"
        ]
      },
      "outputs": [
        {
          "name": "stdout",
          "output_type": "stream",
          "text": [
            "Epoch 1/100\n",
            "235/235 [==============================] - 3s 9ms/step - loss: 1.6315 - accuracy: 0.5987\n",
            "Epoch 2/100\n",
            "235/235 [==============================] - 2s 10ms/step - loss: 0.8790 - accuracy: 0.8134\n",
            "Epoch 3/100\n",
            "235/235 [==============================] - 3s 11ms/step - loss: 0.6460 - accuracy: 0.8475\n",
            "Epoch 4/100\n",
            "235/235 [==============================] - 3s 11ms/step - loss: 0.5447 - accuracy: 0.8641\n",
            "Epoch 5/100\n",
            "235/235 [==============================] - 2s 10ms/step - loss: 0.4864 - accuracy: 0.8741\n",
            "Epoch 6/100\n",
            "235/235 [==============================] - 3s 11ms/step - loss: 0.4491 - accuracy: 0.8809\n",
            "Epoch 7/100\n",
            "235/235 [==============================] - 2s 10ms/step - loss: 0.4228 - accuracy: 0.8867\n",
            "Epoch 8/100\n",
            "235/235 [==============================] - 3s 11ms/step - loss: 0.4025 - accuracy: 0.8906\n",
            "Epoch 9/100\n",
            "235/235 [==============================] - 3s 11ms/step - loss: 0.3862 - accuracy: 0.8944\n",
            "Epoch 10/100\n",
            "235/235 [==============================] - 2s 10ms/step - loss: 0.3732 - accuracy: 0.8967\n",
            "Epoch 11/100\n",
            "235/235 [==============================] - 2s 10ms/step - loss: 0.3617 - accuracy: 0.8996\n",
            "Epoch 12/100\n",
            "235/235 [==============================] - 2s 10ms/step - loss: 0.3521 - accuracy: 0.9017\n",
            "Epoch 13/100\n",
            "235/235 [==============================] - 2s 10ms/step - loss: 0.3424 - accuracy: 0.9043\n",
            "Epoch 14/100\n",
            "235/235 [==============================] - 3s 11ms/step - loss: 0.3352 - accuracy: 0.9061\n",
            "Epoch 15/100\n",
            "235/235 [==============================] - 2s 10ms/step - loss: 0.3277 - accuracy: 0.9073\n",
            "Epoch 16/100\n",
            "235/235 [==============================] - 3s 11ms/step - loss: 0.3215 - accuracy: 0.9098\n",
            "Epoch 17/100\n",
            "235/235 [==============================] - 2s 10ms/step - loss: 0.3152 - accuracy: 0.9121\n",
            "Epoch 18/100\n",
            "235/235 [==============================] - 2s 10ms/step - loss: 0.3099 - accuracy: 0.9125\n",
            "Epoch 19/100\n",
            "235/235 [==============================] - 3s 12ms/step - loss: 0.3037 - accuracy: 0.9150\n",
            "Epoch 20/100\n",
            "235/235 [==============================] - 2s 9ms/step - loss: 0.2992 - accuracy: 0.9162\n",
            "Epoch 21/100\n",
            "235/235 [==============================] - 2s 10ms/step - loss: 0.2949 - accuracy: 0.9170\n",
            "Epoch 22/100\n",
            "235/235 [==============================] - 3s 11ms/step - loss: 0.2905 - accuracy: 0.9177\n",
            "Epoch 23/100\n",
            "235/235 [==============================] - 3s 11ms/step - loss: 0.2862 - accuracy: 0.9184\n",
            "Epoch 24/100\n",
            "235/235 [==============================] - 3s 12ms/step - loss: 0.2824 - accuracy: 0.9202\n",
            "Epoch 25/100\n",
            "235/235 [==============================] - 2s 10ms/step - loss: 0.2790 - accuracy: 0.9218\n",
            "Epoch 26/100\n",
            "235/235 [==============================] - 2s 9ms/step - loss: 0.2753 - accuracy: 0.9221\n",
            "Epoch 27/100\n",
            "235/235 [==============================] - 2s 11ms/step - loss: 0.2709 - accuracy: 0.9238\n",
            "Epoch 28/100\n",
            "235/235 [==============================] - 2s 10ms/step - loss: 0.2685 - accuracy: 0.9246\n",
            "Epoch 29/100\n",
            "235/235 [==============================] - 3s 12ms/step - loss: 0.2655 - accuracy: 0.9253\n",
            "Epoch 30/100\n",
            "235/235 [==============================] - 2s 10ms/step - loss: 0.2613 - accuracy: 0.9257\n",
            "Epoch 31/100\n",
            "235/235 [==============================] - 2s 10ms/step - loss: 0.2581 - accuracy: 0.9284\n",
            "Epoch 32/100\n",
            "235/235 [==============================] - 3s 12ms/step - loss: 0.2551 - accuracy: 0.9288\n",
            "Epoch 33/100\n",
            "235/235 [==============================] - 3s 11ms/step - loss: 0.2522 - accuracy: 0.9293\n",
            "Epoch 34/100\n",
            "235/235 [==============================] - 3s 14ms/step - loss: 0.2488 - accuracy: 0.9305\n",
            "Epoch 35/100\n",
            "235/235 [==============================] - 2s 10ms/step - loss: 0.2468 - accuracy: 0.9308\n",
            "Epoch 36/100\n",
            "235/235 [==============================] - 2s 10ms/step - loss: 0.2452 - accuracy: 0.9306\n",
            "Epoch 37/100\n",
            "235/235 [==============================] - 2s 10ms/step - loss: 0.2415 - accuracy: 0.9320\n",
            "Epoch 38/100\n",
            "235/235 [==============================] - 3s 12ms/step - loss: 0.2393 - accuracy: 0.9330\n",
            "Epoch 39/100\n",
            "235/235 [==============================] - 3s 14ms/step - loss: 0.2369 - accuracy: 0.9343\n",
            "Epoch 40/100\n",
            "235/235 [==============================] - 3s 13ms/step - loss: 0.2340 - accuracy: 0.9348\n",
            "Epoch 41/100\n",
            "235/235 [==============================] - 2s 10ms/step - loss: 0.2321 - accuracy: 0.9350\n",
            "Epoch 42/100\n",
            "235/235 [==============================] - 2s 10ms/step - loss: 0.2290 - accuracy: 0.9365\n",
            "Epoch 43/100\n",
            "235/235 [==============================] - 2s 10ms/step - loss: 0.2276 - accuracy: 0.9363\n",
            "Epoch 44/100\n",
            "235/235 [==============================] - 3s 12ms/step - loss: 0.2259 - accuracy: 0.9363\n",
            "Epoch 45/100\n",
            "235/235 [==============================] - 2s 10ms/step - loss: 0.2232 - accuracy: 0.9374\n",
            "Epoch 46/100\n",
            "235/235 [==============================] - 3s 13ms/step - loss: 0.2210 - accuracy: 0.9379\n",
            "Epoch 47/100\n",
            "235/235 [==============================] - 2s 9ms/step - loss: 0.2184 - accuracy: 0.9383\n",
            "Epoch 48/100\n",
            "235/235 [==============================] - 2s 10ms/step - loss: 0.2174 - accuracy: 0.9389\n",
            "Epoch 49/100\n",
            "235/235 [==============================] - 3s 11ms/step - loss: 0.2152 - accuracy: 0.9395\n",
            "Epoch 50/100\n",
            "235/235 [==============================] - 2s 10ms/step - loss: 0.2128 - accuracy: 0.9408\n",
            "Epoch 51/100\n",
            "235/235 [==============================] - 2s 10ms/step - loss: 0.2114 - accuracy: 0.9412\n",
            "Epoch 52/100\n",
            "235/235 [==============================] - 2s 10ms/step - loss: 0.2090 - accuracy: 0.9416\n",
            "Epoch 53/100\n",
            "235/235 [==============================] - 2s 10ms/step - loss: 0.2073 - accuracy: 0.9417\n",
            "Epoch 54/100\n",
            "235/235 [==============================] - 5s 21ms/step - loss: 0.2059 - accuracy: 0.9427\n",
            "Epoch 55/100\n",
            "235/235 [==============================] - 3s 11ms/step - loss: 0.2041 - accuracy: 0.9431\n",
            "Epoch 56/100\n",
            "235/235 [==============================] - 3s 11ms/step - loss: 0.2025 - accuracy: 0.9431\n",
            "Epoch 57/100\n",
            "235/235 [==============================] - 3s 12ms/step - loss: 0.2013 - accuracy: 0.9442\n",
            "Epoch 58/100\n",
            "235/235 [==============================] - 3s 13ms/step - loss: 0.1992 - accuracy: 0.9443\n",
            "Epoch 59/100\n",
            "235/235 [==============================] - 3s 11ms/step - loss: 0.1970 - accuracy: 0.9450\n",
            "Epoch 60/100\n",
            "235/235 [==============================] - 2s 9ms/step - loss: 0.1968 - accuracy: 0.9453\n",
            "Epoch 61/100\n",
            "235/235 [==============================] - 2s 9ms/step - loss: 0.1943 - accuracy: 0.9450\n",
            "Epoch 62/100\n",
            "235/235 [==============================] - 2s 9ms/step - loss: 0.1924 - accuracy: 0.9461\n",
            "Epoch 63/100\n",
            "235/235 [==============================] - 3s 13ms/step - loss: 0.1911 - accuracy: 0.9462\n",
            "Epoch 64/100\n",
            "235/235 [==============================] - 2s 9ms/step - loss: 0.1905 - accuracy: 0.9466\n",
            "Epoch 65/100\n",
            "235/235 [==============================] - 2s 10ms/step - loss: 0.1884 - accuracy: 0.9472\n",
            "Epoch 66/100\n",
            "235/235 [==============================] - 2s 10ms/step - loss: 0.1869 - accuracy: 0.9477\n",
            "Epoch 67/100\n",
            "235/235 [==============================] - 2s 9ms/step - loss: 0.1854 - accuracy: 0.9477\n",
            "Epoch 68/100\n",
            "235/235 [==============================] - 3s 12ms/step - loss: 0.1840 - accuracy: 0.9487\n",
            "Epoch 69/100\n",
            "235/235 [==============================] - 3s 11ms/step - loss: 0.1835 - accuracy: 0.9485\n",
            "Epoch 70/100\n",
            "235/235 [==============================] - 2s 11ms/step - loss: 0.1813 - accuracy: 0.9487\n",
            "Epoch 71/100\n",
            "235/235 [==============================] - 3s 12ms/step - loss: 0.1806 - accuracy: 0.9495\n",
            "Epoch 72/100\n",
            "235/235 [==============================] - 3s 11ms/step - loss: 0.1783 - accuracy: 0.9494\n",
            "Epoch 73/100\n",
            "235/235 [==============================] - 3s 13ms/step - loss: 0.1777 - accuracy: 0.9507\n",
            "Epoch 74/100\n",
            "235/235 [==============================] - 2s 11ms/step - loss: 0.1766 - accuracy: 0.9505\n",
            "Epoch 75/100\n",
            "235/235 [==============================] - 3s 11ms/step - loss: 0.1750 - accuracy: 0.9513\n",
            "Epoch 76/100\n",
            "235/235 [==============================] - 3s 11ms/step - loss: 0.1738 - accuracy: 0.9508\n",
            "Epoch 77/100\n",
            "235/235 [==============================] - 3s 13ms/step - loss: 0.1726 - accuracy: 0.9512\n",
            "Epoch 78/100\n",
            "235/235 [==============================] - 3s 12ms/step - loss: 0.1717 - accuracy: 0.9516\n",
            "Epoch 79/100\n",
            "235/235 [==============================] - 3s 11ms/step - loss: 0.1702 - accuracy: 0.9523\n",
            "Epoch 80/100\n",
            "235/235 [==============================] - 2s 10ms/step - loss: 0.1689 - accuracy: 0.9524\n",
            "Epoch 81/100\n",
            "235/235 [==============================] - 2s 9ms/step - loss: 0.1675 - accuracy: 0.9529\n",
            "Epoch 82/100\n",
            "235/235 [==============================] - 3s 12ms/step - loss: 0.1668 - accuracy: 0.9535\n",
            "Epoch 83/100\n",
            "235/235 [==============================] - 3s 11ms/step - loss: 0.1657 - accuracy: 0.9534\n",
            "Epoch 84/100\n",
            "235/235 [==============================] - 2s 9ms/step - loss: 0.1650 - accuracy: 0.9537\n",
            "Epoch 85/100\n",
            "235/235 [==============================] - 2s 9ms/step - loss: 0.1636 - accuracy: 0.9545\n",
            "Epoch 86/100\n",
            "235/235 [==============================] - 2s 10ms/step - loss: 0.1628 - accuracy: 0.9544\n",
            "Epoch 87/100\n",
            "235/235 [==============================] - 2s 9ms/step - loss: 0.1622 - accuracy: 0.9542\n",
            "Epoch 88/100\n",
            "235/235 [==============================] - 3s 12ms/step - loss: 0.1602 - accuracy: 0.9550\n",
            "Epoch 89/100\n",
            "235/235 [==============================] - 2s 10ms/step - loss: 0.1595 - accuracy: 0.9553\n",
            "Epoch 90/100\n",
            "235/235 [==============================] - 2s 10ms/step - loss: 0.1587 - accuracy: 0.9555\n",
            "Epoch 91/100\n",
            "235/235 [==============================] - 3s 11ms/step - loss: 0.1573 - accuracy: 0.9560\n",
            "Epoch 92/100\n",
            "235/235 [==============================] - 4s 17ms/step - loss: 0.1567 - accuracy: 0.9556\n",
            "Epoch 93/100\n",
            "235/235 [==============================] - 3s 14ms/step - loss: 0.1559 - accuracy: 0.9560\n",
            "Epoch 94/100\n",
            "235/235 [==============================] - 3s 11ms/step - loss: 0.1549 - accuracy: 0.9566\n",
            "Epoch 95/100\n",
            "235/235 [==============================] - 3s 11ms/step - loss: 0.1534 - accuracy: 0.9571\n",
            "Epoch 96/100\n",
            "235/235 [==============================] - 2s 10ms/step - loss: 0.1523 - accuracy: 0.9571\n",
            "Epoch 97/100\n",
            "235/235 [==============================] - 3s 14ms/step - loss: 0.1521 - accuracy: 0.9570\n",
            "Epoch 98/100\n",
            "235/235 [==============================] - 3s 12ms/step - loss: 0.1504 - accuracy: 0.9579\n",
            "Epoch 99/100\n",
            "235/235 [==============================] - 2s 10ms/step - loss: 0.1501 - accuracy: 0.9577\n",
            "Epoch 100/100\n",
            "235/235 [==============================] - 2s 11ms/step - loss: 0.1491 - accuracy: 0.9582\n"
          ]
        },
        {
          "data": {
            "text/plain": [
              "<keras.src.callbacks.History at 0x2621c493df0>"
            ]
          },
          "execution_count": 9,
          "metadata": {},
          "output_type": "execute_result"
        }
      ],
      "source": [
        "model.fit(\n",
        "    x_train,\n",
        "    y_train,\n",
        "    epochs=params[\"epoch_nr\"],\n",
        "    batch_size=params[\"batch_size\"],\n",
        "    callbacks=[NeptuneLogger()],\n",
        ")"
      ]
    },
    {
      "cell_type": "markdown",
      "metadata": {
        "id": "UpXwAiBWHcEt"
      },
      "source": [
        "## Stop logging\n",
        "\n",
        "Once you are done logging, stop tracking the run."
      ]
    },
    {
      "cell_type": "code",
      "execution_count": 5,
      "metadata": {
        "id": "GQGPV-ZzHcEt",
        "jupyter": {
          "outputs_hidden": false
        },
        "tags": []
      },
      "outputs": [
        {
          "name": "stdout",
          "output_type": "stream",
          "text": [
            "Shutting down background jobs, please wait a moment...\n",
            "Done!\n",
            "Waiting for the remaining 46 operations to synchronize with Neptune. Do not kill this process.\n",
            "All 46 operations synced, thanks for waiting!\n",
            "Explore the metadata in the Neptune app:\n",
            "https://app.neptune.ai/ibm26ashish/mnistdemo/e/MNIS-1/metadata\n"
          ]
        }
      ],
      "source": [
        "run.stop()"
      ]
    },
    {
      "cell_type": "markdown",
      "metadata": {
        "id": "8F929PsxHcEt",
        "tags": [
          "comment"
        ]
      },
      "source": [
        "## See results live in the UI\n",
        "\n",
        "* The logs will be visible as charts in the **Charts** dashboard on the left\n",
        "* Neptune also logs your system hardware consumption. These are visible under the **Monitoring** dashboard"
      ]
    }
  ],
  "metadata": {
    "colab": {
      "provenance": []
    },
    "kernelspec": {
      "display_name": "py38",
      "language": "python",
      "name": "python3"
    },
    "language_info": {
      "codemirror_mode": {
        "name": "ipython",
        "version": 3
      },
      "file_extension": ".py",
      "mimetype": "text/x-python",
      "name": "python",
      "nbconvert_exporter": "python",
      "pygments_lexer": "ipython3",
      "version": "3.10.8"
    },
    "vscode": {
      "interpreter": {
        "hash": "a9715cf0b0024f6e1c62cb31a4f1f43970eb41991212681878768b4bfe53050a"
      }
    }
  },
  "nbformat": 4,
  "nbformat_minor": 0
}
